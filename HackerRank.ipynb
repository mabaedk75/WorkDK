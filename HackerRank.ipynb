{
 "cells": [
  {
   "cell_type": "code",
   "execution_count": 11,
   "metadata": {},
   "outputs": [],
   "source": [
    "def plusMinus(arr):\n",
    "    a=0\n",
    "    b=0\n",
    "    c=0\n",
    "    n=len(arr)\n",
    "    for i in range(0,n):\n",
    "        if arr[i]>0:\n",
    "            a+=1\n",
    "        elif arr[i]<0:\n",
    "            b+=1\n",
    "        else:\n",
    "            c+=1\n",
    "    print('%.5f'%(a/n))\n",
    "    print('%.5f'%(b/n))\n",
    "    print('%.5f'%(c/n))"
   ]
  },
  {
   "cell_type": "code",
   "execution_count": 12,
   "metadata": {},
   "outputs": [
    {
     "name": "stdout",
     "output_type": "stream",
     "text": [
      "0.40000\n",
      "0.40000\n",
      "0.20000\n"
     ]
    }
   ],
   "source": [
    "plusMinus([1,-1,1,0,-2])"
   ]
  },
  {
   "cell_type": "code",
   "execution_count": 99,
   "metadata": {},
   "outputs": [],
   "source": [
    "def staircase(n):\n",
    "    for i in range(1, n+1):\n",
    "        for j in range(n, 0, -1):\n",
    "            if j > i:\n",
    "                print(\" \", end='')\n",
    "            else:\n",
    "                print('#', end='')\n",
    "        print(\"\")"
   ]
  },
  {
   "cell_type": "code",
   "execution_count": 100,
   "metadata": {},
   "outputs": [
    {
     "name": "stdout",
     "output_type": "stream",
     "text": [
      "  #\n",
      " ##\n",
      "###\n"
     ]
    }
   ],
   "source": [
    "staircase(3)"
   ]
  },
  {
   "cell_type": "code",
   "execution_count": 167,
   "metadata": {},
   "outputs": [
    {
     "name": "stdout",
     "output_type": "stream",
     "text": [
      "[[1 2 3]\n",
      " [4 5 6]\n",
      " [9 8 9]]\n"
     ]
    },
    {
     "data": {
      "text/plain": [
       "matrix([[15]])"
      ]
     },
     "execution_count": 167,
     "metadata": {},
     "output_type": "execute_result"
    }
   ],
   "source": [
    "diagonalDifference([[1,2,3],[4,5,6],[9,8,9]])"
   ]
  },
  {
   "cell_type": "code",
   "execution_count": 180,
   "metadata": {},
   "outputs": [],
   "source": [
    "def diagonalDifference(arr,n):\n",
    "    sum1 = 0\n",
    "    sum2 = 0; \n",
    "    for i in range(0, n):  \n",
    "        for j in range(0, n):  \n",
    "            if (i == j): \n",
    "                sum1 += arr[i][j]  \n",
    "            if ((i + j) == (n - 1)): \n",
    "                sum2 += arr[i][j] \n",
    "          \n",
    "    if sum1-sum2<0:\n",
    "        return (sum1-sum2)*(-1)\n",
    "    else:\n",
    "        return sum1-sum2"
   ]
  },
  {
   "cell_type": "code",
   "execution_count": 181,
   "metadata": {},
   "outputs": [
    {
     "data": {
      "text/plain": [
       "4"
      ]
     },
     "execution_count": 181,
     "metadata": {},
     "output_type": "execute_result"
    }
   ],
   "source": [
    "printDiagonalSums([[1,2,7],\n",
    "                  [4,5,6],\n",
    "                  [7,8,9]],3)"
   ]
  },
  {
   "cell_type": "code",
   "execution_count": 293,
   "metadata": {},
   "outputs": [],
   "source": [
    "def miniMaxSum(arr):\n",
    "    arr.sort()\n",
    "    minSum=sum(arr)-arr[len(arr)-1]\n",
    "    maxSum=sum(arr)-arr[0]\n",
    "    print(minSum,end=\" \")\n",
    "    print(maxSum)"
   ]
  },
  {
   "cell_type": "code",
   "execution_count": 294,
   "metadata": {},
   "outputs": [
    {
     "name": "stdout",
     "output_type": "stream",
     "text": [
      "10 14\n"
     ]
    }
   ],
   "source": [
    "miniMaxSum([1,2,3,4,5])"
   ]
  },
  {
   "cell_type": "code",
   "execution_count": 310,
   "metadata": {},
   "outputs": [],
   "source": [
    "def birthdayCakeCandles(ar):\n",
    "    count=1\n",
    "    ar.sort()\n",
    "    b=ar[len(ar)-1]\n",
    "    for i in range(0,len(ar)-1):\n",
    "        if ar[i]==b:\n",
    "            count+=1\n",
    "    return count"
   ]
  },
  {
   "cell_type": "code",
   "execution_count": 311,
   "metadata": {},
   "outputs": [
    {
     "data": {
      "text/plain": [
       "2"
      ]
     },
     "execution_count": 311,
     "metadata": {},
     "output_type": "execute_result"
    }
   ],
   "source": [
    "birthdayCakeCandles([3,2,1,3])"
   ]
  },
  {
   "cell_type": "code",
   "execution_count": 359,
   "metadata": {},
   "outputs": [],
   "source": [
    "def timeConversion(s):\n",
    "    if s[8]=='A' and not s[0:2]=='12':\n",
    "        b=s[0:8]\n",
    "    elif s[8]=='P' and not s[0:2]=='12':\n",
    "        c=(int(s[0])+1)\n",
    "        d=(int(s[1])+2)\n",
    "        b=str(c)+str(d)+s[2:8]\n",
    "    elif s[0:2]=='12' and s[8]=='A':\n",
    "        b='00'+s[2:8]\n",
    "    elif s[0:2]=='12' and s[8]=='P':\n",
    "        b=s[0:8]\n",
    "    return b\n",
    "        "
   ]
  },
  {
   "cell_type": "code",
   "execution_count": 360,
   "metadata": {},
   "outputs": [
    {
     "data": {
      "text/plain": [
       "'00:08:00'"
      ]
     },
     "execution_count": 360,
     "metadata": {},
     "output_type": "execute_result"
    }
   ],
   "source": [
    "timeConversion('12:08:00AM')"
   ]
  },
  {
   "cell_type": "code",
   "execution_count": 363,
   "metadata": {},
   "outputs": [
    {
     "data": {
      "text/plain": [
       "3"
      ]
     },
     "execution_count": 363,
     "metadata": {},
     "output_type": "execute_result"
    }
   ],
   "source": [
    "78%5"
   ]
  },
  {
   "cell_type": "code",
   "execution_count": 429,
   "metadata": {},
   "outputs": [],
   "source": [
    "def gradingStudents(grades):\n",
    "    final=[]\n",
    "    for i in range(0,len(grades)):\n",
    "        if grades[i]<38:\n",
    "            change=grades[i]\n",
    "        else:\n",
    "            a=grades[i]%5\n",
    "            if a>=3:\n",
    "                change= grades[i]-a+5\n",
    "            else:\n",
    "                change=grades[i]\n",
    "        final.append(change)\n",
    "    return final"
   ]
  },
  {
   "cell_type": "code",
   "execution_count": 430,
   "metadata": {},
   "outputs": [
    {
     "data": {
      "text/plain": [
       "[37, 90]"
      ]
     },
     "execution_count": 430,
     "metadata": {},
     "output_type": "execute_result"
    }
   ],
   "source": [
    "gradingStudents([37,89])"
   ]
  },
  {
   "cell_type": "code",
   "execution_count": 459,
   "metadata": {},
   "outputs": [],
   "source": [
    "def countApplesAndOranges(s, t, a, b, apples, oranges):\n",
    "    #s=start ghar\n",
    "    #t=end ghar\n",
    "    #a=apple tree origin\n",
    "    #b=orange tree origin\n",
    "    app=0\n",
    "    ora=0\n",
    "    for i in range(0,len(apples)):\n",
    "        dist=apples[i]+a\n",
    "        if dist>=s and dist<=t:\n",
    "            app+=1\n",
    "        else:\n",
    "            pass\n",
    "    for j in range(0,len(oranges)):\n",
    "        dist=oranges[j]+b\n",
    "        if dist>=s and dist<=t:\n",
    "            ora+=1\n",
    "        else:\n",
    "            pass\n",
    "    print(app)\n",
    "    print(ora)\n",
    "    "
   ]
  },
  {
   "cell_type": "code",
   "execution_count": 460,
   "metadata": {},
   "outputs": [
    {
     "name": "stdout",
     "output_type": "stream",
     "text": [
      "1\n",
      "1\n"
     ]
    }
   ],
   "source": [
    "countApplesAndOranges(7, 11, 5, 15,[-2,2,1],[5,-6])"
   ]
  },
  {
   "cell_type": "code",
   "execution_count": 43,
   "metadata": {},
   "outputs": [],
   "source": [
    "def kangaroo(x1, v1, x2, v2):\n",
    "    if ((v1-v2)==0 and x2!=x1):\n",
    "        return 'NO'\n",
    "    elif (v1 < v2 or (x2 - x1) % (v1 - v2) != 0):\n",
    "        return 'NO'\n",
    "    else:\n",
    "        return 'YES'"
   ]
  },
  {
   "cell_type": "code",
   "execution_count": 44,
   "metadata": {},
   "outputs": [
    {
     "data": {
      "text/plain": [
       "'NO'"
      ]
     },
     "execution_count": 44,
     "metadata": {},
     "output_type": "execute_result"
    }
   ],
   "source": [
    "kangaroo(43,2,70,2)"
   ]
  },
  {
   "cell_type": "code",
   "execution_count": 67,
   "metadata": {},
   "outputs": [
    {
     "ename": "SyntaxError",
     "evalue": "invalid syntax (<ipython-input-67-83681ffce6b0>, line 5)",
     "output_type": "error",
     "traceback": [
      "\u001b[1;36m  File \u001b[1;32m\"<ipython-input-67-83681ffce6b0>\"\u001b[1;36m, line \u001b[1;32m5\u001b[0m\n\u001b[1;33m    int n\u001b[0m\n\u001b[1;37m        ^\u001b[0m\n\u001b[1;31mSyntaxError\u001b[0m\u001b[1;31m:\u001b[0m invalid syntax\n"
     ]
    }
   ],
   "source": [
    "def getTotalX(a, b):\n",
    "    count=0\n",
    "    b.sort()\n",
    "    a.sort()\n",
    "    while a[len(a)-1]<=n<=b[0]\n",
    "            "
   ]
  },
  {
   "cell_type": "code",
   "execution_count": 68,
   "metadata": {},
   "outputs": [
    {
     "ename": "UnboundLocalError",
     "evalue": "local variable 'n' referenced before assignment",
     "output_type": "error",
     "traceback": [
      "\u001b[1;31m---------------------------------------------------------------------------\u001b[0m",
      "\u001b[1;31mUnboundLocalError\u001b[0m                         Traceback (most recent call last)",
      "\u001b[1;32m<ipython-input-68-33086996f75c>\u001b[0m in \u001b[0;36m<module>\u001b[1;34m\u001b[0m\n\u001b[1;32m----> 1\u001b[1;33m \u001b[0mgetTotalX\u001b[0m\u001b[1;33m(\u001b[0m\u001b[1;33m[\u001b[0m\u001b[1;36m2\u001b[0m\u001b[1;33m,\u001b[0m\u001b[1;36m4\u001b[0m\u001b[1;33m]\u001b[0m\u001b[1;33m,\u001b[0m\u001b[1;33m[\u001b[0m\u001b[1;36m16\u001b[0m\u001b[1;33m,\u001b[0m\u001b[1;36m32\u001b[0m\u001b[1;33m,\u001b[0m\u001b[1;36m96\u001b[0m\u001b[1;33m]\u001b[0m\u001b[1;33m)\u001b[0m\u001b[1;33m\u001b[0m\u001b[1;33m\u001b[0m\u001b[0m\n\u001b[0m",
      "\u001b[1;32m<ipython-input-65-0bf407e01833>\u001b[0m in \u001b[0;36mgetTotalX\u001b[1;34m(a, b)\u001b[0m\n\u001b[0;32m      3\u001b[0m     \u001b[0mb\u001b[0m\u001b[1;33m.\u001b[0m\u001b[0msort\u001b[0m\u001b[1;33m(\u001b[0m\u001b[1;33m)\u001b[0m\u001b[1;33m\u001b[0m\u001b[1;33m\u001b[0m\u001b[0m\n\u001b[0;32m      4\u001b[0m     \u001b[0ma\u001b[0m\u001b[1;33m.\u001b[0m\u001b[0msort\u001b[0m\u001b[1;33m(\u001b[0m\u001b[1;33m)\u001b[0m\u001b[1;33m\u001b[0m\u001b[1;33m\u001b[0m\u001b[0m\n\u001b[1;32m----> 5\u001b[1;33m     \u001b[0ma\u001b[0m\u001b[1;33m[\u001b[0m\u001b[0mlen\u001b[0m\u001b[1;33m(\u001b[0m\u001b[0ma\u001b[0m\u001b[1;33m)\u001b[0m\u001b[1;33m-\u001b[0m\u001b[1;36m1\u001b[0m\u001b[1;33m]\u001b[0m\u001b[1;33m<=\u001b[0m\u001b[0mn\u001b[0m\u001b[1;33m<=\u001b[0m\u001b[0mb\u001b[0m\u001b[1;33m[\u001b[0m\u001b[1;36m0\u001b[0m\u001b[1;33m]\u001b[0m\u001b[1;33m\u001b[0m\u001b[1;33m\u001b[0m\u001b[0m\n\u001b[0m\u001b[0;32m      6\u001b[0m     \u001b[1;32mfor\u001b[0m \u001b[0mi\u001b[0m \u001b[1;32min\u001b[0m \u001b[0mrange\u001b[0m\u001b[1;33m(\u001b[0m\u001b[1;36m0\u001b[0m\u001b[1;33m,\u001b[0m\u001b[1;36m100\u001b[0m\u001b[1;33m)\u001b[0m\u001b[1;33m:\u001b[0m\u001b[1;33m\u001b[0m\u001b[1;33m\u001b[0m\u001b[0m\n\u001b[0;32m      7\u001b[0m         \u001b[1;32mif\u001b[0m \u001b[0mn\u001b[0m\u001b[1;33m%\u001b[0m\u001b[0ma\u001b[0m\u001b[1;33m[\u001b[0m\u001b[0mi\u001b[0m\u001b[1;33m]\u001b[0m\u001b[1;33m==\u001b[0m\u001b[1;36m0\u001b[0m\u001b[1;33m:\u001b[0m\u001b[1;33m\u001b[0m\u001b[1;33m\u001b[0m\u001b[0m\n",
      "\u001b[1;31mUnboundLocalError\u001b[0m: local variable 'n' referenced before assignment"
     ]
    }
   ],
   "source": [
    "getTotalX([2,4],[16,32,96])"
   ]
  },
  {
   "cell_type": "code",
   "execution_count": 38,
   "metadata": {},
   "outputs": [],
   "source": [
    "def breakingRecords(scores):\n",
    "    mins=scores[0]\n",
    "    maxs=scores[0]\n",
    "    count_min=0\n",
    "    count_max=0\n",
    "    for i in range(1,len(scores)):\n",
    "        if scores[i]<mins:\n",
    "            mins=scores[i]\n",
    "            count_min+=1\n",
    "        elif scores[i]>maxs:\n",
    "            maxs=scores[i]\n",
    "            count_max+=1\n",
    "    return (count_max,count_min)"
   ]
  },
  {
   "cell_type": "code",
   "execution_count": 39,
   "metadata": {},
   "outputs": [
    {
     "data": {
      "text/plain": [
       "(4, 0)"
      ]
     },
     "execution_count": 39,
     "metadata": {},
     "output_type": "execute_result"
    }
   ],
   "source": [
    "breakingRecords([3, 4, 21, 36, 10, 28, 35, 5, 24, 42])"
   ]
  },
  {
   "cell_type": "code",
   "execution_count": 5,
   "metadata": {},
   "outputs": [],
   "source": [
    "def birthday(s, d, m):\n",
    "    count=0\n",
    "    for i in range(0,len(s)-m+1):\n",
    "        sum=0\n",
    "        for j in range(0,m):\n",
    "            sum=sum+s[i+j]\n",
    "        if (sum==d):\n",
    "            count+=1\n",
    "    return count\n",
    "        \n",
    "        "
   ]
  },
  {
   "cell_type": "code",
   "execution_count": 6,
   "metadata": {},
   "outputs": [
    {
     "data": {
      "text/plain": [
       "2"
      ]
     },
     "execution_count": 6,
     "metadata": {},
     "output_type": "execute_result"
    }
   ],
   "source": [
    "birthday([1,2,1,4,3,2], 3, 2)"
   ]
  },
  {
   "cell_type": "code",
   "execution_count": 35,
   "metadata": {},
   "outputs": [],
   "source": [
    "def divisibleSumPairs(n, k, ar):\n",
    "    count=0\n",
    "    for i in range(0,n-1):\n",
    "        for j in range(i+1,n):\n",
    "            if ((ar[i]+ar[j])%k==0) and k!=0:\n",
    "                count+=1\n",
    "    return count"
   ]
  },
  {
   "cell_type": "code",
   "execution_count": 36,
   "metadata": {},
   "outputs": [
    {
     "data": {
      "text/plain": [
       "3"
      ]
     },
     "execution_count": 36,
     "metadata": {},
     "output_type": "execute_result"
    }
   ],
   "source": [
    "divisibleSumPairs(6,5,[1,2,3,4,5,6])"
   ]
  },
  {
   "cell_type": "code",
   "execution_count": 27,
   "metadata": {},
   "outputs": [],
   "source": [
    "def migratoryBirds(arr):\n",
    "    c=[]\n",
    "    for i in range(0,len(arr)):\n",
    "        count=arr.count(arr[i])\n",
    "        c.append(count)\n",
    "    return (c.index(max(c)))"
   ]
  },
  {
   "cell_type": "code",
   "execution_count": 28,
   "metadata": {},
   "outputs": [
    {
     "data": {
      "text/plain": [
       "0"
      ]
     },
     "execution_count": 28,
     "metadata": {},
     "output_type": "execute_result"
    }
   ],
   "source": [
    "migratoryBirds([1,2,1,3,4,2,5])"
   ]
  },
  {
   "cell_type": "code",
   "execution_count": 30,
   "metadata": {},
   "outputs": [],
   "source": [
    "def catAndMouse(x, y, z):   #x=cat A, y=cat B, z=mouse C\n",
    "    a = abs(x-z)\n",
    "    b = abs(y-z)\n",
    "    return \"Cat A\" if a<b else \"Cat B\" if b<a else \"Mouse C\""
   ]
  },
  {
   "cell_type": "code",
   "execution_count": 31,
   "metadata": {},
   "outputs": [
    {
     "data": {
      "text/plain": [
       "'Cat B'"
      ]
     },
     "execution_count": 31,
     "metadata": {},
     "output_type": "execute_result"
    }
   ],
   "source": [
    "catAndMouse(4,44,44)"
   ]
  },
  {
   "cell_type": "code",
   "execution_count": 37,
   "metadata": {},
   "outputs": [],
   "source": [
    "def countingValleys(n, s):\n",
    "    level=0\n",
    "    counter=0\n",
    "    for i in range(0,n):\n",
    "        if s[i]=='U':\n",
    "            level+=1\n",
    "        if s[i]=='D':\n",
    "            level=level-1\n",
    "        if level==0 and s[i]=='U':\n",
    "            counter+=1\n",
    "    return counter\n",
    "        "
   ]
  },
  {
   "cell_type": "code",
   "execution_count": 38,
   "metadata": {},
   "outputs": [
    {
     "data": {
      "text/plain": [
       "1"
      ]
     },
     "execution_count": 38,
     "metadata": {},
     "output_type": "execute_result"
    }
   ],
   "source": [
    "countingValleys(8,['U','D','D','D','U','D','U','U'])"
   ]
  },
  {
   "cell_type": "code",
   "execution_count": null,
   "metadata": {},
   "outputs": [],
   "source": []
  }
 ],
 "metadata": {
  "kernelspec": {
   "display_name": "Python 3",
   "language": "python",
   "name": "python3"
  },
  "language_info": {
   "codemirror_mode": {
    "name": "ipython",
    "version": 3
   },
   "file_extension": ".py",
   "mimetype": "text/x-python",
   "name": "python",
   "nbconvert_exporter": "python",
   "pygments_lexer": "ipython3",
   "version": "3.7.4"
  }
 },
 "nbformat": 4,
 "nbformat_minor": 2
}
